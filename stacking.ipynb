{
 "cells": [
  {
   "cell_type": "code",
   "execution_count": 1,
   "metadata": {},
   "outputs": [],
   "source": [
    "import pandas as pd\n",
    "import lightgbm as lgb\n",
    "import numpy as np\n",
    "from tqdm import tqdm"
   ]
  },
  {
   "cell_type": "code",
   "execution_count": 2,
   "metadata": {},
   "outputs": [],
   "source": [
    "ooflgb = pd.read_hdf('lgboof.h5', key='data')\n",
    "oofnn1 = pd.read_hdf('nn1oof.h5', key='data')\n",
    "# oofnn2 = pd.read_hdf('nn2oof.h5', key='data')\n",
    "# oofnn3 = pd.read_hdf('nn2oof2.h5', key='data')"
   ]
  },
  {
   "cell_type": "code",
   "execution_count": 3,
   "metadata": {},
   "outputs": [],
   "source": [
    "all_data = pd.concat([ooflgb,oofnn1],axis=1)#,oofnn2,oofnn3"
   ]
  },
  {
   "cell_type": "code",
   "execution_count": 4,
   "metadata": {},
   "outputs": [],
   "source": [
    "all_data.columns = ['a','b']#,'c','d'"
   ]
  },
  {
   "cell_type": "code",
   "execution_count": 5,
   "metadata": {},
   "outputs": [
    {
     "data": {
      "text/plain": [
       "(42907133, 4)"
      ]
     },
     "execution_count": 5,
     "metadata": {},
     "output_type": "execute_result"
    }
   ],
   "source": [
    "all_data.shape"
   ]
  },
  {
   "cell_type": "code",
   "execution_count": 6,
   "metadata": {},
   "outputs": [],
   "source": [
    "train = all_data.iloc[0:42907133-1000000]\n",
    "test = all_data.iloc[42907133-1000000:]"
   ]
  },
  {
   "cell_type": "code",
   "execution_count": 7,
   "metadata": {},
   "outputs": [],
   "source": [
    "param = {'num_leaves': 52,\n",
    "         'objective':'binary',\n",
    "         'learning_rate': 0.01,        \n",
    "         \"boosting\": \"gbdt\",\n",
    "         \"feature_fraction\": 0.8,\n",
    "         \"bagging_freq\": 1,\n",
    "         \"bagging_fraction\": 0.8 ,\n",
    "         \"bagging_seed\": 11,\n",
    "         \"metric\": 'auc',\n",
    "         \"lambda_l1\": 0.1,\n",
    "         \"random_state\": 133,\n",
    "         \"verbosity\": -1,\n",
    "         \"num_threads\" : -1,\n",
    "\n",
    "         }"
   ]
  },
  {
   "cell_type": "code",
   "execution_count": 8,
   "metadata": {},
   "outputs": [],
   "source": [
    "target = pd.read_hdf('train_data.h5', key='data')['label']"
   ]
  },
  {
   "cell_type": "code",
   "execution_count": 9,
   "metadata": {},
   "outputs": [],
   "source": [
    "from sklearn.model_selection import KFold,StratifiedKFold,GroupKFold,RepeatedKFold\n",
    "folds = StratifiedKFold(n_splits=5, shuffle=True, random_state=15)\n",
    "stack_test = np.zeros((len(test),1))"
   ]
  },
  {
   "cell_type": "code",
   "execution_count": 10,
   "metadata": {
    "collapsed": true,
    "jupyter": {
     "outputs_hidden": true
    }
   },
   "outputs": [
    {
     "name": "stdout",
     "output_type": "stream",
     "text": [
      "fold n°0\n",
      "Training until validation scores don't improve for 100 rounds\n",
      "[50]\ttraining's auc: 0.806357\tvalid_1's auc: 0.806748\n",
      "[100]\ttraining's auc: 0.807591\tvalid_1's auc: 0.807936\n",
      "[150]\ttraining's auc: 0.808344\tvalid_1's auc: 0.808655\n",
      "[200]\ttraining's auc: 0.808833\tvalid_1's auc: 0.809105\n",
      "[250]\ttraining's auc: 0.809044\tvalid_1's auc: 0.809282\n",
      "[300]\ttraining's auc: 0.809235\tvalid_1's auc: 0.809436\n",
      "[350]\ttraining's auc: 0.809398\tvalid_1's auc: 0.809554\n",
      "[400]\ttraining's auc: 0.809514\tvalid_1's auc: 0.80963\n",
      "[450]\ttraining's auc: 0.809594\tvalid_1's auc: 0.809669\n",
      "[500]\ttraining's auc: 0.809667\tvalid_1's auc: 0.809697\n",
      "[550]\ttraining's auc: 0.809739\tvalid_1's auc: 0.809716\n",
      "[600]\ttraining's auc: 0.809805\tvalid_1's auc: 0.809728\n",
      "[650]\ttraining's auc: 0.809869\tvalid_1's auc: 0.809734\n",
      "[700]\ttraining's auc: 0.809929\tvalid_1's auc: 0.809737\n",
      "[750]\ttraining's auc: 0.809982\tvalid_1's auc: 0.80974\n",
      "[800]\ttraining's auc: 0.810032\tvalid_1's auc: 0.809744\n",
      "[850]\ttraining's auc: 0.810082\tvalid_1's auc: 0.809745\n",
      "[900]\ttraining's auc: 0.81013\tvalid_1's auc: 0.809746\n",
      "[950]\ttraining's auc: 0.810168\tvalid_1's auc: 0.809748\n",
      "[1000]\ttraining's auc: 0.810215\tvalid_1's auc: 0.809749\n",
      "[1050]\ttraining's auc: 0.810249\tvalid_1's auc: 0.809749\n",
      "[1100]\ttraining's auc: 0.810294\tvalid_1's auc: 0.80975\n",
      "Early stopping, best iteration is:\n",
      "[1018]\ttraining's auc: 0.810226\tvalid_1's auc: 0.80975\n",
      "fold n°1\n",
      "Training until validation scores don't improve for 100 rounds\n",
      "[50]\ttraining's auc: 0.806501\tvalid_1's auc: 0.805946\n",
      "[100]\ttraining's auc: 0.807736\tvalid_1's auc: 0.807184\n",
      "[150]\ttraining's auc: 0.808494\tvalid_1's auc: 0.807943\n",
      "[200]\ttraining's auc: 0.808976\tvalid_1's auc: 0.808427\n",
      "[250]\ttraining's auc: 0.809184\tvalid_1's auc: 0.808621\n",
      "[300]\ttraining's auc: 0.809377\tvalid_1's auc: 0.808798\n",
      "[350]\ttraining's auc: 0.809536\tvalid_1's auc: 0.808937\n",
      "[400]\ttraining's auc: 0.809652\tvalid_1's auc: 0.809026\n",
      "[450]\ttraining's auc: 0.809731\tvalid_1's auc: 0.809071\n",
      "[500]\ttraining's auc: 0.809805\tvalid_1's auc: 0.809104\n",
      "[550]\ttraining's auc: 0.809873\tvalid_1's auc: 0.809128\n",
      "[600]\ttraining's auc: 0.809933\tvalid_1's auc: 0.809146\n",
      "[650]\ttraining's auc: 0.809991\tvalid_1's auc: 0.809153\n",
      "[700]\ttraining's auc: 0.810054\tvalid_1's auc: 0.80916\n",
      "[750]\ttraining's auc: 0.81011\tvalid_1's auc: 0.809163\n",
      "[800]\ttraining's auc: 0.810161\tvalid_1's auc: 0.809166\n",
      "[850]\ttraining's auc: 0.810201\tvalid_1's auc: 0.80917\n",
      "[900]\ttraining's auc: 0.810254\tvalid_1's auc: 0.809171\n",
      "[950]\ttraining's auc: 0.810294\tvalid_1's auc: 0.809172\n",
      "[1000]\ttraining's auc: 0.810343\tvalid_1's auc: 0.809175\n",
      "[1050]\ttraining's auc: 0.810389\tvalid_1's auc: 0.809173\n",
      "Early stopping, best iteration is:\n",
      "[995]\ttraining's auc: 0.810339\tvalid_1's auc: 0.809175\n",
      "fold n°2\n",
      "Training until validation scores don't improve for 100 rounds\n",
      "[50]\ttraining's auc: 0.806433\tvalid_1's auc: 0.806455\n",
      "[100]\ttraining's auc: 0.807654\tvalid_1's auc: 0.807668\n",
      "[150]\ttraining's auc: 0.808404\tvalid_1's auc: 0.808403\n",
      "[200]\ttraining's auc: 0.808888\tvalid_1's auc: 0.808872\n",
      "[250]\ttraining's auc: 0.809094\tvalid_1's auc: 0.809064\n",
      "[300]\ttraining's auc: 0.809284\tvalid_1's auc: 0.809233\n",
      "[350]\ttraining's auc: 0.809444\tvalid_1's auc: 0.809359\n",
      "[400]\ttraining's auc: 0.809562\tvalid_1's auc: 0.80944\n",
      "[450]\ttraining's auc: 0.809648\tvalid_1's auc: 0.809483\n",
      "[500]\ttraining's auc: 0.809722\tvalid_1's auc: 0.809515\n",
      "[550]\ttraining's auc: 0.809789\tvalid_1's auc: 0.809538\n",
      "[600]\ttraining's auc: 0.809855\tvalid_1's auc: 0.809548\n",
      "[650]\ttraining's auc: 0.809919\tvalid_1's auc: 0.809556\n",
      "[700]\ttraining's auc: 0.809972\tvalid_1's auc: 0.809559\n",
      "[750]\ttraining's auc: 0.810023\tvalid_1's auc: 0.809564\n",
      "[800]\ttraining's auc: 0.810075\tvalid_1's auc: 0.809565\n",
      "[850]\ttraining's auc: 0.81013\tvalid_1's auc: 0.809568\n",
      "[900]\ttraining's auc: 0.810178\tvalid_1's auc: 0.80957\n",
      "[950]\ttraining's auc: 0.810218\tvalid_1's auc: 0.809571\n",
      "[1000]\ttraining's auc: 0.810263\tvalid_1's auc: 0.809572\n",
      "[1050]\ttraining's auc: 0.810306\tvalid_1's auc: 0.809572\n",
      "[1100]\ttraining's auc: 0.810344\tvalid_1's auc: 0.809571\n",
      "[1150]\ttraining's auc: 0.810389\tvalid_1's auc: 0.80957\n",
      "Early stopping, best iteration is:\n",
      "[1062]\ttraining's auc: 0.810316\tvalid_1's auc: 0.809572\n",
      "fold n°3\n",
      "Training until validation scores don't improve for 100 rounds\n",
      "[50]\ttraining's auc: 0.8066\tvalid_1's auc: 0.805734\n",
      "[100]\ttraining's auc: 0.807827\tvalid_1's auc: 0.806929\n",
      "[150]\ttraining's auc: 0.808587\tvalid_1's auc: 0.807666\n",
      "[200]\ttraining's auc: 0.809074\tvalid_1's auc: 0.808135\n",
      "[250]\ttraining's auc: 0.809278\tvalid_1's auc: 0.808315\n",
      "[300]\ttraining's auc: 0.809467\tvalid_1's auc: 0.80848\n",
      "[350]\ttraining's auc: 0.809621\tvalid_1's auc: 0.808612\n"
     ]
    },
    {
     "ename": "KeyboardInterrupt",
     "evalue": "",
     "output_type": "error",
     "traceback": [
      "\u001b[0;31m---------------------------------------------------------------------------\u001b[0m",
      "\u001b[0;31mKeyboardInterrupt\u001b[0m                         Traceback (most recent call last)",
      "\u001b[0;32m<ipython-input-10-4ca52231cfc8>\u001b[0m in \u001b[0;36m<module>\u001b[0;34m\u001b[0m\n\u001b[1;32m     14\u001b[0m                     \u001b[0mvalid_sets\u001b[0m\u001b[0;34m=\u001b[0m\u001b[0;34m[\u001b[0m\u001b[0mtrn_data\u001b[0m\u001b[0;34m,\u001b[0m \u001b[0mval_data\u001b[0m\u001b[0;34m]\u001b[0m\u001b[0;34m,\u001b[0m\u001b[0;34m\u001b[0m\u001b[0m\n\u001b[1;32m     15\u001b[0m                     \u001b[0mverbose_eval\u001b[0m\u001b[0;34m=\u001b[0m\u001b[0;36m50\u001b[0m\u001b[0;34m,\u001b[0m\u001b[0;34m\u001b[0m\u001b[0m\n\u001b[0;32m---> 16\u001b[0;31m                     early_stopping_rounds=100)\n\u001b[0m\u001b[1;32m     17\u001b[0m     \u001b[0mstack_test\u001b[0m \u001b[0;34m+=\u001b[0m \u001b[0mclf\u001b[0m\u001b[0;34m.\u001b[0m\u001b[0mpredict\u001b[0m\u001b[0;34m(\u001b[0m\u001b[0mtest\u001b[0m\u001b[0;34m,\u001b[0m \u001b[0mnum_iteration\u001b[0m\u001b[0;34m=\u001b[0m\u001b[0mclf\u001b[0m\u001b[0;34m.\u001b[0m\u001b[0mbest_iteration\u001b[0m\u001b[0;34m)\u001b[0m\u001b[0;34m.\u001b[0m\u001b[0mreshape\u001b[0m\u001b[0;34m(\u001b[0m\u001b[0;34m-\u001b[0m\u001b[0;36m1\u001b[0m\u001b[0;34m,\u001b[0m\u001b[0;36m1\u001b[0m\u001b[0;34m)\u001b[0m\u001b[0;34m\u001b[0m\u001b[0m\n",
      "\u001b[0;32m/opt/conda/envs/tensorflow_py3/lib/python3.6/site-packages/lightgbm/engine.py\u001b[0m in \u001b[0;36mtrain\u001b[0;34m(params, train_set, num_boost_round, valid_sets, valid_names, fobj, feval, init_model, feature_name, categorical_feature, early_stopping_rounds, evals_result, verbose_eval, learning_rates, keep_training_booster, callbacks)\u001b[0m\n\u001b[1;32m    256\u001b[0m         \u001b[0;32mif\u001b[0m \u001b[0mvalid_sets\u001b[0m \u001b[0;32mis\u001b[0m \u001b[0;32mnot\u001b[0m \u001b[0;32mNone\u001b[0m\u001b[0;34m:\u001b[0m\u001b[0;34m\u001b[0m\u001b[0m\n\u001b[1;32m    257\u001b[0m             \u001b[0;32mif\u001b[0m \u001b[0mis_valid_contain_train\u001b[0m\u001b[0;34m:\u001b[0m\u001b[0;34m\u001b[0m\u001b[0m\n\u001b[0;32m--> 258\u001b[0;31m                 \u001b[0mevaluation_result_list\u001b[0m\u001b[0;34m.\u001b[0m\u001b[0mextend\u001b[0m\u001b[0;34m(\u001b[0m\u001b[0mbooster\u001b[0m\u001b[0;34m.\u001b[0m\u001b[0meval_train\u001b[0m\u001b[0;34m(\u001b[0m\u001b[0mfeval\u001b[0m\u001b[0;34m)\u001b[0m\u001b[0;34m)\u001b[0m\u001b[0;34m\u001b[0m\u001b[0m\n\u001b[0m\u001b[1;32m    259\u001b[0m             \u001b[0mevaluation_result_list\u001b[0m\u001b[0;34m.\u001b[0m\u001b[0mextend\u001b[0m\u001b[0;34m(\u001b[0m\u001b[0mbooster\u001b[0m\u001b[0;34m.\u001b[0m\u001b[0meval_valid\u001b[0m\u001b[0;34m(\u001b[0m\u001b[0mfeval\u001b[0m\u001b[0;34m)\u001b[0m\u001b[0;34m)\u001b[0m\u001b[0;34m\u001b[0m\u001b[0m\n\u001b[1;32m    260\u001b[0m         \u001b[0;32mtry\u001b[0m\u001b[0;34m:\u001b[0m\u001b[0;34m\u001b[0m\u001b[0m\n",
      "\u001b[0;32m/opt/conda/envs/tensorflow_py3/lib/python3.6/site-packages/lightgbm/basic.py\u001b[0m in \u001b[0;36meval_train\u001b[0;34m(self, feval)\u001b[0m\n\u001b[1;32m   2581\u001b[0m             \u001b[0mList\u001b[0m \u001b[0;32mwith\u001b[0m \u001b[0mevaluation\u001b[0m \u001b[0mresults\u001b[0m\u001b[0;34m.\u001b[0m\u001b[0;34m\u001b[0m\u001b[0m\n\u001b[1;32m   2582\u001b[0m         \"\"\"\n\u001b[0;32m-> 2583\u001b[0;31m         \u001b[0;32mreturn\u001b[0m \u001b[0mself\u001b[0m\u001b[0;34m.\u001b[0m\u001b[0m__inner_eval\u001b[0m\u001b[0;34m(\u001b[0m\u001b[0mself\u001b[0m\u001b[0;34m.\u001b[0m\u001b[0m_train_data_name\u001b[0m\u001b[0;34m,\u001b[0m \u001b[0;36m0\u001b[0m\u001b[0;34m,\u001b[0m \u001b[0mfeval\u001b[0m\u001b[0;34m)\u001b[0m\u001b[0;34m\u001b[0m\u001b[0m\n\u001b[0m\u001b[1;32m   2584\u001b[0m \u001b[0;34m\u001b[0m\u001b[0m\n\u001b[1;32m   2585\u001b[0m     \u001b[0;32mdef\u001b[0m \u001b[0meval_valid\u001b[0m\u001b[0;34m(\u001b[0m\u001b[0mself\u001b[0m\u001b[0;34m,\u001b[0m \u001b[0mfeval\u001b[0m\u001b[0;34m=\u001b[0m\u001b[0;32mNone\u001b[0m\u001b[0;34m)\u001b[0m\u001b[0;34m:\u001b[0m\u001b[0;34m\u001b[0m\u001b[0m\n",
      "\u001b[0;32m/opt/conda/envs/tensorflow_py3/lib/python3.6/site-packages/lightgbm/basic.py\u001b[0m in \u001b[0;36m__inner_eval\u001b[0;34m(self, data_name, data_idx, feval)\u001b[0m\n\u001b[1;32m   3106\u001b[0m                 \u001b[0mctypes\u001b[0m\u001b[0;34m.\u001b[0m\u001b[0mc_int\u001b[0m\u001b[0;34m(\u001b[0m\u001b[0mdata_idx\u001b[0m\u001b[0;34m)\u001b[0m\u001b[0;34m,\u001b[0m\u001b[0;34m\u001b[0m\u001b[0m\n\u001b[1;32m   3107\u001b[0m                 \u001b[0mctypes\u001b[0m\u001b[0;34m.\u001b[0m\u001b[0mbyref\u001b[0m\u001b[0;34m(\u001b[0m\u001b[0mtmp_out_len\u001b[0m\u001b[0;34m)\u001b[0m\u001b[0;34m,\u001b[0m\u001b[0;34m\u001b[0m\u001b[0m\n\u001b[0;32m-> 3108\u001b[0;31m                 result.ctypes.data_as(ctypes.POINTER(ctypes.c_double))))\n\u001b[0m\u001b[1;32m   3109\u001b[0m             \u001b[0;32mif\u001b[0m \u001b[0mtmp_out_len\u001b[0m\u001b[0;34m.\u001b[0m\u001b[0mvalue\u001b[0m \u001b[0;34m!=\u001b[0m \u001b[0mself\u001b[0m\u001b[0;34m.\u001b[0m\u001b[0m__num_inner_eval\u001b[0m\u001b[0;34m:\u001b[0m\u001b[0;34m\u001b[0m\u001b[0m\n\u001b[1;32m   3110\u001b[0m                 \u001b[0;32mraise\u001b[0m \u001b[0mValueError\u001b[0m\u001b[0;34m(\u001b[0m\u001b[0;34m\"Wrong length of eval results\"\u001b[0m\u001b[0;34m)\u001b[0m\u001b[0;34m\u001b[0m\u001b[0m\n",
      "\u001b[0;31mKeyboardInterrupt\u001b[0m: "
     ]
    }
   ],
   "source": [
    "for fold_, (trn_idx, val_idx) in enumerate(folds.split(train, target)):\n",
    "    print(\"fold n°{}\".format(fold_))\n",
    "    trn_data = lgb.Dataset(train.iloc[trn_idx],\n",
    "                           label=target[trn_idx],\n",
    "                           )\n",
    "    val_data = lgb.Dataset(train.iloc[val_idx],\n",
    "                           label=target[val_idx],\n",
    "                           )\n",
    "\n",
    "    num_round = 10000\n",
    "    clf = lgb.train(param,\n",
    "                    trn_data,\n",
    "                    num_round,\n",
    "                    valid_sets=[trn_data, val_data],\n",
    "                    verbose_eval=50,\n",
    "                    early_stopping_rounds=100)\n",
    "    stack_test += clf.predict(test, num_iteration=clf.best_iteration).reshape(-1,1)\n"
   ]
  },
  {
   "cell_type": "code",
   "execution_count": 11,
   "metadata": {},
   "outputs": [],
   "source": [
    "stack_test = pd.DataFrame(stack_test/5).reset_index()\n",
    "stack_test.columns=['id','probability']\n",
    "stack_test['id']+=1\n",
    "stack_test.to_csv('submission.csv',index=False)"
   ]
  },
  {
   "cell_type": "code",
   "execution_count": null,
   "metadata": {},
   "outputs": [],
   "source": []
  }
 ],
 "metadata": {
  "kernelspec": {
   "display_name": "conda_tensorflow_py3",
   "language": "python",
   "name": "conda_tensorflow_py3"
  },
  "language_info": {
   "codemirror_mode": {
    "name": "ipython",
    "version": 3
   },
   "file_extension": ".py",
   "mimetype": "text/x-python",
   "name": "python",
   "nbconvert_exporter": "python",
   "pygments_lexer": "ipython3",
   "version": "3.6.5"
  }
 },
 "nbformat": 4,
 "nbformat_minor": 4
}
